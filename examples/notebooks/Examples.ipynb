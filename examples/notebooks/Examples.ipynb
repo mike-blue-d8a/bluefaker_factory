{
 "cells": [
  {
   "cell_type": "markdown",
   "id": "78cea127-97d2-421a-a0d5-940d51e63d53",
   "metadata": {},
   "source": [
    "# Examples Exploring Fake Fraude Data Created by bluefaker_factory\n",
    "\n",
    "These are examples using the `duckdb`, `seaborn` and `matplotlib` libraries. Make sure they are installed.\n",
    "`pip install duckdb, seaborn, matplotlib` inside your environment. \n",
    "\n",
    "Querring the fake fruad data we just made in bluefaker_factory.\n",
    "\n",
    "\n"
   ]
  },
  {
   "cell_type": "markdown",
   "id": "f4c8491b-506e-44f0-8aa5-9d29710cd2a1",
   "metadata": {},
   "source": [
    "# Setting up:"
   ]
  },
  {
   "cell_type": "markdown",
   "id": "cfa7b488-cfc9-4a2e-9011-8566836be182",
   "metadata": {},
   "source": [
    "1) #### ***Generate fake data based on the given fraud schema:***"
   ]
  },
  {
   "cell_type": "markdown",
   "id": "0aefca9e-9993-4a5c-83ed-9ae19607619e",
   "metadata": {},
   "source": [
    "```yaml\n",
    "head schemas/fraud_schema.yaml\n",
    "\n",
    "domains:\n",
    "  - fraud\n",
    "\n",
    "schema:\n",
    "  - column: ID\n",
    "    dtype: uuid4\n",
    "  - column: Name\n",
    "    dtype: name\n",
    "  - column: Email\n",
    "    dtype: email\n",
    "    ...\n",
    "```"
   ]
  },
  {
   "cell_type": "markdown",
   "id": "74a5a2ef-31b1-44c8-89d6-ce0ff3b66062",
   "metadata": {},
   "source": [
    "2) #### ***Run*** `bluefaker.py`"
   ]
  },
  {
   "cell_type": "markdown",
   "id": "6bd9cf2a-5ca8-40df-a3aa-59c5667f4f94",
   "metadata": {},
   "source": [
    "There are some prepared wrapper script what will build the data set in scripts directory:"
   ]
  },
  {
   "cell_type": "markdown",
   "id": "37fcec52-4bd9-4704-b499-a20b8e300289",
   "metadata": {},
   "source": [
    "```bash\n",
    "───────┬────────────────────────────────────────────────────────────────────────────────────────────────────────────────────────────────────-\n",
    "       │ File: scripts/create_fake_fraud_data.sh\n",
    "───────┼─────────────────────────────────────────────────────────────────────────────────────────────────────────────────────────────────────\n",
    "   1   │ python bluefaker.py --schema schemas/fraud_schema.yaml \\\n",
    "   2   │                           --records 100000 \\\n",
    "   3   │                           --format parquet \\\n",
    "   4   │                           --file data/raw/fraud_data01\n",
    "───────┴────────────────────────────────────────────────────────────────\n",
    "\n",
    "```"
   ]
  },
  {
   "cell_type": "markdown",
   "id": "bb80e822-01a6-4d4b-a7c2-91a362a0fb44",
   "metadata": {},
   "source": [
    "\n",
    "***Run the script:***\n",
    "\n",
    "```bash\n",
    "(.venv) ➜  bluefaker_factory> bash scripts/create_fake_fraud_data.sh\n",
    "\n",
    "Generating Fake Data with '100000' records....\n",
    "\n",
    "100%|████████████████████████████████████████████████████████████████████████████████████████████████████████| 100000/100000 [00:24<00:00, 4163.31it/s]\n",
    "```\n",
    "```bash\n",
    "Sample Data:\n",
    "+--------------------------------------+---------------+-------------------------------+------------+-----+------------+--------------+---------------+------------+--------------------+----------------------+---------------------------------------------------------------------------+\n",
    "|                  ID                  |      Name     |             Email             |   Gender   | Age |  Country   | Credit_Score | Annual_Income | Card_Type  | Transaction_Amount | Transaction_Location |                                                                       Device                                                                       | Time_Of_Day | Fraudulent |\n",
    "+--------------------------------------+---------------+-------------------------------+------------+-----+------------+--------------+---------------+------------+--------------------+----------------------+---------------------------------------------------------------------------+\n",
    "| 5b107e24-e44f-40a5-8af3-3cb82de6db78 |  Brooke Shea  | brooke.shea@savage-gordon.com | Non-binary |  74 | Bangladesh |     750      |     94869     | MasterCard |       707.46       |     Browningfort     | Mozilla/5.0 (iPod; U; CPU iPhone OS 3_1 like Mac OS X; th-TH) AppleWebKit/533.31.3 (KHTML, like Gecko) Version/3.0.5 Mobile/8B112 Safari/6533.31.3 |   00:56:15  |   False    |\n",
    "| 3190e7d9-059d-46fb-b04f-740f166be14b | Robert Thomas |    robert.thomas@hayes.com    |    Male    |  22 |  Lebanon   |     470      |     155591    |    Amex    |       962.78       |      Silvafurt       |    Mozilla/5.0 (iPhone; CPU iPhone OS 13_5_1 like Mac OS X) AppleWebKit/535.2 (KHTML, like Gecko) FxiOS/15.1l2332.0 Mobile/52O482 Safari/535.2     |   13:08:15  |    True    |\n",
    "| 5844d3d9-f3c3-4fd0-b52b-20226cb1249c |  Kelly Perry  |     kelly.perry@hanson.com    |   Female   |  32 |  Colombia  |     300      |     93419     | MasterCard |       210.06       |     Kevinchester     |                                          Mozilla/5.0 (compatible; MSIE 8.0; Windows NT 5.0; Trident/5.1)                                           |   13:21:40  |   False    |\n",
    "+--------------------------------------+---------------+-------------------------------+------------+-----+------------+--------------+---------------+------------+--------------------+----------------------+---------------------------------------------------------------------------+\n",
    "\n",
    "Created file: data/raw/fraud_data01.parquet\n",
    "Number of rows added: 100000\n",
    "\n",
    "```\n",
    "#### You have the option to run directly to change values:\n",
    "\n",
    "```\n",
    "python bluefaker.py --schema schemas/fraud_schema.yaml \\\n",
    "                    --records 10 \\\n",
    "                    --format csv \\\n",
    "                    --file data/raw/fraud_sample\n",
    "```"
   ]
  },
  {
   "cell_type": "markdown",
   "id": "1297ee05-1d56-445c-a333-0b8b1309ea2f",
   "metadata": {},
   "source": [
    "3) #### **Initiallize Duckdb and create a table from our fraud file we created.**"
   ]
  },
  {
   "cell_type": "markdown",
   "id": "89807953-aa95-4e32-9bad-f0db4d6787e7",
   "metadata": {},
   "source": [
    "Bellow I show both Persisted (Disk) and In-Memory approaches with DuckDB: \n",
    "\n",
    "- **Persist to Disk:** Use this when you want to save the database and reuse it later (e.g., across sessions or scripts):\n",
    "- **In Memory:** Use this when you want speed and simplicity, and don’t need to keep the data: ***Note Be Aware of Data Size***"
   ]
  },
  {
   "cell_type": "code",
   "execution_count": 12,
   "id": "8878c295-426c-4a1d-9fd0-200cc23eb16b",
   "metadata": {},
   "outputs": [
    {
     "name": "stdout",
     "output_type": "stream",
     "text": [
      "Row Count: 100000\n"
     ]
    }
   ],
   "source": [
    "import duckdb\n",
    "\n",
    "# Setting a persisted database on disk\n",
    "#con = duckdb.connect(\"data/database/jupyter_play.db\")\n",
    "# or \n",
    "con = duckdb.connect(database=\":memory:\")\n",
    "\n",
    "# Creating a Table from parquet file\n",
    "con.execute(\"\"\"\n",
    "    CREATE OR REPLACE TABLE fraud_data AS \n",
    "    SELECT * FROM read_parquet('data/raw/fraud_data01.parquet')\n",
    "\"\"\")\n",
    "\n",
    "row_count = con.execute(\"SELECT COUNT(*) FROM fraud_data\").fetchone()[0]\n",
    "print(\"Row Count:\", row_count)"
   ]
  },
  {
   "cell_type": "markdown",
   "id": "8bf74c90-0e10-4765-b5d4-236e9135bb39",
   "metadata": {},
   "source": [
    "## Quick Discovery of the Generated Data"
   ]
  },
  {
   "cell_type": "markdown",
   "id": "8e8ab9f2-956d-4179-b924-91c8651719e9",
   "metadata": {},
   "source": [
    "### Table Definitions:"
   ]
  },
  {
   "cell_type": "code",
   "execution_count": 4,
   "id": "b26b1284-ab12-4c7c-ab26-0a1a1036beaf",
   "metadata": {},
   "outputs": [
    {
     "data": {
      "text/html": [
       "<div>\n",
       "<style scoped>\n",
       "    .dataframe tbody tr th:only-of-type {\n",
       "        vertical-align: middle;\n",
       "    }\n",
       "\n",
       "    .dataframe tbody tr th {\n",
       "        vertical-align: top;\n",
       "    }\n",
       "\n",
       "    .dataframe thead th {\n",
       "        text-align: right;\n",
       "    }\n",
       "</style>\n",
       "<table border=\"1\" class=\"dataframe\">\n",
       "  <thead>\n",
       "    <tr style=\"text-align: right;\">\n",
       "      <th></th>\n",
       "      <th>cid</th>\n",
       "      <th>name</th>\n",
       "      <th>type</th>\n",
       "      <th>notnull</th>\n",
       "      <th>dflt_value</th>\n",
       "      <th>pk</th>\n",
       "    </tr>\n",
       "  </thead>\n",
       "  <tbody>\n",
       "    <tr>\n",
       "      <th>0</th>\n",
       "      <td>0</td>\n",
       "      <td>ID</td>\n",
       "      <td>VARCHAR</td>\n",
       "      <td>False</td>\n",
       "      <td>None</td>\n",
       "      <td>False</td>\n",
       "    </tr>\n",
       "    <tr>\n",
       "      <th>1</th>\n",
       "      <td>1</td>\n",
       "      <td>Name</td>\n",
       "      <td>VARCHAR</td>\n",
       "      <td>False</td>\n",
       "      <td>None</td>\n",
       "      <td>False</td>\n",
       "    </tr>\n",
       "    <tr>\n",
       "      <th>2</th>\n",
       "      <td>2</td>\n",
       "      <td>Email</td>\n",
       "      <td>VARCHAR</td>\n",
       "      <td>False</td>\n",
       "      <td>None</td>\n",
       "      <td>False</td>\n",
       "    </tr>\n",
       "    <tr>\n",
       "      <th>3</th>\n",
       "      <td>3</td>\n",
       "      <td>Gender</td>\n",
       "      <td>VARCHAR</td>\n",
       "      <td>False</td>\n",
       "      <td>None</td>\n",
       "      <td>False</td>\n",
       "    </tr>\n",
       "    <tr>\n",
       "      <th>4</th>\n",
       "      <td>4</td>\n",
       "      <td>Age</td>\n",
       "      <td>BIGINT</td>\n",
       "      <td>False</td>\n",
       "      <td>None</td>\n",
       "      <td>False</td>\n",
       "    </tr>\n",
       "    <tr>\n",
       "      <th>5</th>\n",
       "      <td>5</td>\n",
       "      <td>Country</td>\n",
       "      <td>VARCHAR</td>\n",
       "      <td>False</td>\n",
       "      <td>None</td>\n",
       "      <td>False</td>\n",
       "    </tr>\n",
       "    <tr>\n",
       "      <th>6</th>\n",
       "      <td>6</td>\n",
       "      <td>Credit_Score</td>\n",
       "      <td>BIGINT</td>\n",
       "      <td>False</td>\n",
       "      <td>None</td>\n",
       "      <td>False</td>\n",
       "    </tr>\n",
       "    <tr>\n",
       "      <th>7</th>\n",
       "      <td>7</td>\n",
       "      <td>Annual_Income</td>\n",
       "      <td>BIGINT</td>\n",
       "      <td>False</td>\n",
       "      <td>None</td>\n",
       "      <td>False</td>\n",
       "    </tr>\n",
       "    <tr>\n",
       "      <th>8</th>\n",
       "      <td>8</td>\n",
       "      <td>Card_Type</td>\n",
       "      <td>VARCHAR</td>\n",
       "      <td>False</td>\n",
       "      <td>None</td>\n",
       "      <td>False</td>\n",
       "    </tr>\n",
       "    <tr>\n",
       "      <th>9</th>\n",
       "      <td>9</td>\n",
       "      <td>Transaction_Amount</td>\n",
       "      <td>DOUBLE</td>\n",
       "      <td>False</td>\n",
       "      <td>None</td>\n",
       "      <td>False</td>\n",
       "    </tr>\n",
       "    <tr>\n",
       "      <th>10</th>\n",
       "      <td>10</td>\n",
       "      <td>Transaction_Location</td>\n",
       "      <td>VARCHAR</td>\n",
       "      <td>False</td>\n",
       "      <td>None</td>\n",
       "      <td>False</td>\n",
       "    </tr>\n",
       "    <tr>\n",
       "      <th>11</th>\n",
       "      <td>11</td>\n",
       "      <td>Device</td>\n",
       "      <td>VARCHAR</td>\n",
       "      <td>False</td>\n",
       "      <td>None</td>\n",
       "      <td>False</td>\n",
       "    </tr>\n",
       "    <tr>\n",
       "      <th>12</th>\n",
       "      <td>12</td>\n",
       "      <td>Time_Of_Day</td>\n",
       "      <td>VARCHAR</td>\n",
       "      <td>False</td>\n",
       "      <td>None</td>\n",
       "      <td>False</td>\n",
       "    </tr>\n",
       "    <tr>\n",
       "      <th>13</th>\n",
       "      <td>13</td>\n",
       "      <td>Fraudulent</td>\n",
       "      <td>BOOLEAN</td>\n",
       "      <td>False</td>\n",
       "      <td>None</td>\n",
       "      <td>False</td>\n",
       "    </tr>\n",
       "  </tbody>\n",
       "</table>\n",
       "</div>"
      ],
      "text/plain": [
       "    cid                  name     type  notnull dflt_value     pk\n",
       "0     0                    ID  VARCHAR    False       None  False\n",
       "1     1                  Name  VARCHAR    False       None  False\n",
       "2     2                 Email  VARCHAR    False       None  False\n",
       "3     3                Gender  VARCHAR    False       None  False\n",
       "4     4                   Age   BIGINT    False       None  False\n",
       "5     5               Country  VARCHAR    False       None  False\n",
       "6     6          Credit_Score   BIGINT    False       None  False\n",
       "7     7         Annual_Income   BIGINT    False       None  False\n",
       "8     8             Card_Type  VARCHAR    False       None  False\n",
       "9     9    Transaction_Amount   DOUBLE    False       None  False\n",
       "10   10  Transaction_Location  VARCHAR    False       None  False\n",
       "11   11                Device  VARCHAR    False       None  False\n",
       "12   12           Time_Of_Day  VARCHAR    False       None  False\n",
       "13   13            Fraudulent  BOOLEAN    False       None  False"
      ]
     },
     "execution_count": 4,
     "metadata": {},
     "output_type": "execute_result"
    }
   ],
   "source": [
    "con.sql(\"PRAGMA table_info(fraud_data)\").df()"
   ]
  },
  {
   "cell_type": "markdown",
   "id": "ff4527c7-cd8a-41b5-8db9-596c769e5d45",
   "metadata": {},
   "source": [
    "### Small Sample:"
   ]
  },
  {
   "cell_type": "code",
   "execution_count": 6,
   "id": "a06ce3ae-466d-49fb-8358-6e498c52d445",
   "metadata": {},
   "outputs": [
    {
     "data": {
      "text/html": [
       "<div>\n",
       "<style scoped>\n",
       "    .dataframe tbody tr th:only-of-type {\n",
       "        vertical-align: middle;\n",
       "    }\n",
       "\n",
       "    .dataframe tbody tr th {\n",
       "        vertical-align: top;\n",
       "    }\n",
       "\n",
       "    .dataframe thead th {\n",
       "        text-align: right;\n",
       "    }\n",
       "</style>\n",
       "<table border=\"1\" class=\"dataframe\">\n",
       "  <thead>\n",
       "    <tr style=\"text-align: right;\">\n",
       "      <th></th>\n",
       "      <th>ID</th>\n",
       "      <th>Name</th>\n",
       "      <th>Email</th>\n",
       "      <th>Gender</th>\n",
       "      <th>Age</th>\n",
       "      <th>Country</th>\n",
       "      <th>Credit_Score</th>\n",
       "      <th>Annual_Income</th>\n",
       "      <th>Card_Type</th>\n",
       "      <th>Transaction_Amount</th>\n",
       "      <th>Transaction_Location</th>\n",
       "      <th>Device</th>\n",
       "      <th>Time_Of_Day</th>\n",
       "      <th>Fraudulent</th>\n",
       "    </tr>\n",
       "  </thead>\n",
       "  <tbody>\n",
       "    <tr>\n",
       "      <th>0</th>\n",
       "      <td>beef9d30-f008-4a55-ad35-ef9834a8583f</td>\n",
       "      <td>Chelsea Wilkins</td>\n",
       "      <td>chelsea.wilkins@long.com</td>\n",
       "      <td>Male</td>\n",
       "      <td>53</td>\n",
       "      <td>Korea</td>\n",
       "      <td>822</td>\n",
       "      <td>77566</td>\n",
       "      <td>Discover</td>\n",
       "      <td>913.83</td>\n",
       "      <td>Bartonfurt</td>\n",
       "      <td>Mozilla/5.0 (Windows; U; Windows NT 10.0) Appl...</td>\n",
       "      <td>22:11:33</td>\n",
       "      <td>False</td>\n",
       "    </tr>\n",
       "    <tr>\n",
       "      <th>1</th>\n",
       "      <td>b708498f-d900-477d-ad92-f60fb3bea62a</td>\n",
       "      <td>Richard Schneider</td>\n",
       "      <td>richard.schneider@ortiz.com</td>\n",
       "      <td>Male</td>\n",
       "      <td>20</td>\n",
       "      <td>Estonia</td>\n",
       "      <td>513</td>\n",
       "      <td>88255</td>\n",
       "      <td>MasterCard</td>\n",
       "      <td>773.76</td>\n",
       "      <td>Brendaland</td>\n",
       "      <td>Mozilla/5.0 (X11; Linux i686) AppleWebKit/534....</td>\n",
       "      <td>06:29:40</td>\n",
       "      <td>True</td>\n",
       "    </tr>\n",
       "    <tr>\n",
       "      <th>2</th>\n",
       "      <td>121e479f-432b-4cdb-90a8-9d80d5aa9392</td>\n",
       "      <td>Kimberly Adams</td>\n",
       "      <td>kimberly.adams@morales.com</td>\n",
       "      <td>Female</td>\n",
       "      <td>75</td>\n",
       "      <td>Antigua and Barbuda</td>\n",
       "      <td>515</td>\n",
       "      <td>157185</td>\n",
       "      <td>Visa</td>\n",
       "      <td>258.88</td>\n",
       "      <td>Patrickview</td>\n",
       "      <td>Mozilla/5.0 (Macintosh; PPC Mac OS X 10_5_6 rv...</td>\n",
       "      <td>13:49:38</td>\n",
       "      <td>False</td>\n",
       "    </tr>\n",
       "    <tr>\n",
       "      <th>3</th>\n",
       "      <td>dabf834a-115e-42fb-96a7-025135f2845d</td>\n",
       "      <td>William Faulkner</td>\n",
       "      <td>william.faulkner@thomas.com</td>\n",
       "      <td>Non-binary</td>\n",
       "      <td>48</td>\n",
       "      <td>Yemen</td>\n",
       "      <td>363</td>\n",
       "      <td>167299</td>\n",
       "      <td>Visa</td>\n",
       "      <td>617.77</td>\n",
       "      <td>West Katiefurt</td>\n",
       "      <td>Mozilla/5.0 (iPhone; CPU iPhone OS 2_2_1 like ...</td>\n",
       "      <td>03:16:54</td>\n",
       "      <td>False</td>\n",
       "    </tr>\n",
       "    <tr>\n",
       "      <th>4</th>\n",
       "      <td>2c4d985d-7226-42bb-b862-d4891ce24153</td>\n",
       "      <td>Jason Sanchez</td>\n",
       "      <td>jason.sanchez@leblanc-moore.info</td>\n",
       "      <td>Male</td>\n",
       "      <td>63</td>\n",
       "      <td>Montenegro</td>\n",
       "      <td>399</td>\n",
       "      <td>31437</td>\n",
       "      <td>MasterCard</td>\n",
       "      <td>607.34</td>\n",
       "      <td>Allenview</td>\n",
       "      <td>Mozilla/5.0 (iPod; U; CPU iPhone OS 3_1 like M...</td>\n",
       "      <td>22:29:32</td>\n",
       "      <td>False</td>\n",
       "    </tr>\n",
       "  </tbody>\n",
       "</table>\n",
       "</div>"
      ],
      "text/plain": [
       "                                     ID               Name  \\\n",
       "0  beef9d30-f008-4a55-ad35-ef9834a8583f    Chelsea Wilkins   \n",
       "1  b708498f-d900-477d-ad92-f60fb3bea62a  Richard Schneider   \n",
       "2  121e479f-432b-4cdb-90a8-9d80d5aa9392     Kimberly Adams   \n",
       "3  dabf834a-115e-42fb-96a7-025135f2845d   William Faulkner   \n",
       "4  2c4d985d-7226-42bb-b862-d4891ce24153      Jason Sanchez   \n",
       "\n",
       "                              Email      Gender  Age              Country  \\\n",
       "0          chelsea.wilkins@long.com        Male   53                Korea   \n",
       "1       richard.schneider@ortiz.com        Male   20              Estonia   \n",
       "2        kimberly.adams@morales.com      Female   75  Antigua and Barbuda   \n",
       "3       william.faulkner@thomas.com  Non-binary   48                Yemen   \n",
       "4  jason.sanchez@leblanc-moore.info        Male   63           Montenegro   \n",
       "\n",
       "   Credit_Score  Annual_Income   Card_Type  Transaction_Amount  \\\n",
       "0           822          77566    Discover              913.83   \n",
       "1           513          88255  MasterCard              773.76   \n",
       "2           515         157185        Visa              258.88   \n",
       "3           363         167299        Visa              617.77   \n",
       "4           399          31437  MasterCard              607.34   \n",
       "\n",
       "  Transaction_Location                                             Device  \\\n",
       "0           Bartonfurt  Mozilla/5.0 (Windows; U; Windows NT 10.0) Appl...   \n",
       "1           Brendaland  Mozilla/5.0 (X11; Linux i686) AppleWebKit/534....   \n",
       "2          Patrickview  Mozilla/5.0 (Macintosh; PPC Mac OS X 10_5_6 rv...   \n",
       "3       West Katiefurt  Mozilla/5.0 (iPhone; CPU iPhone OS 2_2_1 like ...   \n",
       "4            Allenview  Mozilla/5.0 (iPod; U; CPU iPhone OS 3_1 like M...   \n",
       "\n",
       "  Time_Of_Day  Fraudulent  \n",
       "0    22:11:33       False  \n",
       "1    06:29:40        True  \n",
       "2    13:49:38       False  \n",
       "3    03:16:54       False  \n",
       "4    22:29:32       False  "
      ]
     },
     "execution_count": 6,
     "metadata": {},
     "output_type": "execute_result"
    }
   ],
   "source": [
    "con.sql(\"SELECT * FROM fraud_data LIMIT 5\").df()"
   ]
  },
  {
   "cell_type": "markdown",
   "id": "be0d12b2-48e2-461d-a423-b71cfe950deb",
   "metadata": {},
   "source": [
    "## Fraud Rate Summary"
   ]
  },
  {
   "cell_type": "code",
   "execution_count": 41,
   "id": "a93f0053-d30f-4367-8ddb-3bcb22dde580",
   "metadata": {},
   "outputs": [
    {
     "data": {
      "text/html": [
       "<div>\n",
       "<style scoped>\n",
       "    .dataframe tbody tr th:only-of-type {\n",
       "        vertical-align: middle;\n",
       "    }\n",
       "\n",
       "    .dataframe tbody tr th {\n",
       "        vertical-align: top;\n",
       "    }\n",
       "\n",
       "    .dataframe thead th {\n",
       "        text-align: right;\n",
       "    }\n",
       "</style>\n",
       "<table border=\"1\" class=\"dataframe\">\n",
       "  <thead>\n",
       "    <tr style=\"text-align: right;\">\n",
       "      <th></th>\n",
       "      <th>total_transactions</th>\n",
       "      <th>fraud_count</th>\n",
       "      <th>fraud_rate_percent</th>\n",
       "    </tr>\n",
       "  </thead>\n",
       "  <tbody>\n",
       "    <tr>\n",
       "      <th>0</th>\n",
       "      <td>100000</td>\n",
       "      <td>13639.0</td>\n",
       "      <td>13.64</td>\n",
       "    </tr>\n",
       "  </tbody>\n",
       "</table>\n",
       "</div>"
      ],
      "text/plain": [
       "   total_transactions  fraud_count  fraud_rate_percent\n",
       "0              100000      13639.0               13.64"
      ]
     },
     "execution_count": 41,
     "metadata": {},
     "output_type": "execute_result"
    }
   ],
   "source": [
    "con.sql(\"\"\"\n",
    "    SELECT\n",
    "      COUNT(*) AS total_transactions,\n",
    "      SUM(CASE WHEN Fraudulent THEN 1 ELSE 0 END) AS fraud_count,\n",
    "      ROUND(100.0 * SUM(CASE WHEN Fraudulent THEN 1 ELSE 0 END) / COUNT(*), 2) AS fraud_rate_percent\n",
    "    FROM fraud_data\n",
    "\"\"\").df()"
   ]
  },
  {
   "cell_type": "markdown",
   "id": "ea54b7c0-905e-47de-bb1e-5324a1cdfb46",
   "metadata": {},
   "source": [
    "## Top Countries by Fraud Rate"
   ]
  },
  {
   "cell_type": "code",
   "execution_count": 42,
   "id": "dd1c8942-153c-420d-98ad-c2bd03a40d5b",
   "metadata": {},
   "outputs": [
    {
     "data": {
      "text/html": [
       "<div>\n",
       "<style scoped>\n",
       "    .dataframe tbody tr th:only-of-type {\n",
       "        vertical-align: middle;\n",
       "    }\n",
       "\n",
       "    .dataframe tbody tr th {\n",
       "        vertical-align: top;\n",
       "    }\n",
       "\n",
       "    .dataframe thead th {\n",
       "        text-align: right;\n",
       "    }\n",
       "</style>\n",
       "<table border=\"1\" class=\"dataframe\">\n",
       "  <thead>\n",
       "    <tr style=\"text-align: right;\">\n",
       "      <th></th>\n",
       "      <th>Country</th>\n",
       "      <th>total</th>\n",
       "      <th>fraud_count</th>\n",
       "      <th>fraud_rate_percent</th>\n",
       "    </tr>\n",
       "  </thead>\n",
       "  <tbody>\n",
       "    <tr>\n",
       "      <th>0</th>\n",
       "      <td>Venezuela</td>\n",
       "      <td>418</td>\n",
       "      <td>418.0</td>\n",
       "      <td>100.00</td>\n",
       "    </tr>\n",
       "    <tr>\n",
       "      <th>1</th>\n",
       "      <td>Iran</td>\n",
       "      <td>406</td>\n",
       "      <td>406.0</td>\n",
       "      <td>100.00</td>\n",
       "    </tr>\n",
       "    <tr>\n",
       "      <th>2</th>\n",
       "      <td>Nigeria</td>\n",
       "      <td>406</td>\n",
       "      <td>406.0</td>\n",
       "      <td>100.00</td>\n",
       "    </tr>\n",
       "    <tr>\n",
       "      <th>3</th>\n",
       "      <td>Bahamas</td>\n",
       "      <td>400</td>\n",
       "      <td>66.0</td>\n",
       "      <td>16.50</td>\n",
       "    </tr>\n",
       "    <tr>\n",
       "      <th>4</th>\n",
       "      <td>Tunisia</td>\n",
       "      <td>434</td>\n",
       "      <td>71.0</td>\n",
       "      <td>16.36</td>\n",
       "    </tr>\n",
       "    <tr>\n",
       "      <th>5</th>\n",
       "      <td>Cote d'Ivoire</td>\n",
       "      <td>406</td>\n",
       "      <td>66.0</td>\n",
       "      <td>16.26</td>\n",
       "    </tr>\n",
       "    <tr>\n",
       "      <th>6</th>\n",
       "      <td>Gibraltar</td>\n",
       "      <td>419</td>\n",
       "      <td>68.0</td>\n",
       "      <td>16.23</td>\n",
       "    </tr>\n",
       "    <tr>\n",
       "      <th>7</th>\n",
       "      <td>Barbados</td>\n",
       "      <td>415</td>\n",
       "      <td>65.0</td>\n",
       "      <td>15.66</td>\n",
       "    </tr>\n",
       "    <tr>\n",
       "      <th>8</th>\n",
       "      <td>Kuwait</td>\n",
       "      <td>384</td>\n",
       "      <td>60.0</td>\n",
       "      <td>15.63</td>\n",
       "    </tr>\n",
       "    <tr>\n",
       "      <th>9</th>\n",
       "      <td>Ukraine</td>\n",
       "      <td>410</td>\n",
       "      <td>64.0</td>\n",
       "      <td>15.61</td>\n",
       "    </tr>\n",
       "  </tbody>\n",
       "</table>\n",
       "</div>"
      ],
      "text/plain": [
       "         Country  total  fraud_count  fraud_rate_percent\n",
       "0      Venezuela    418        418.0              100.00\n",
       "1           Iran    406        406.0              100.00\n",
       "2        Nigeria    406        406.0              100.00\n",
       "3        Bahamas    400         66.0               16.50\n",
       "4        Tunisia    434         71.0               16.36\n",
       "5  Cote d'Ivoire    406         66.0               16.26\n",
       "6      Gibraltar    419         68.0               16.23\n",
       "7       Barbados    415         65.0               15.66\n",
       "8         Kuwait    384         60.0               15.63\n",
       "9        Ukraine    410         64.0               15.61"
      ]
     },
     "execution_count": 42,
     "metadata": {},
     "output_type": "execute_result"
    }
   ],
   "source": [
    "df = con.sql(\"\"\"\n",
    "\n",
    "SELECT\n",
    "   Country,\n",
    "   COUNT(*) AS total,\n",
    "   SUM(CASE WHEN Fraudulent THEN 1 ELSE 0 END) AS fraud_count,\n",
    "   ROUND(100.0 * SUM(CASE WHEN Fraudulent THEN 1 ELSE 0 END) / COUNT(*), 2) AS fraud_rate_percent\n",
    " FROM fraud_data\n",
    " GROUP BY Country\n",
    " HAVING COUNT(*) > 10\n",
    " ORDER BY fraud_rate_percent DESC\n",
    " LIMIT 10;\n",
    "\"\"\").df()\n",
    "df"
   ]
  },
  {
   "cell_type": "markdown",
   "id": "7339f8c2-75b3-4cb3-9fce-af2f4bfb5f40",
   "metadata": {},
   "source": [
    "###  Fraudulent transactions per hour."
   ]
  },
  {
   "cell_type": "code",
   "execution_count": 43,
   "id": "cd4a1103-b831-4176-805a-9dc191a0da6b",
   "metadata": {},
   "outputs": [
    {
     "data": {
      "text/html": [
       "<div>\n",
       "<style scoped>\n",
       "    .dataframe tbody tr th:only-of-type {\n",
       "        vertical-align: middle;\n",
       "    }\n",
       "\n",
       "    .dataframe tbody tr th {\n",
       "        vertical-align: top;\n",
       "    }\n",
       "\n",
       "    .dataframe thead th {\n",
       "        text-align: right;\n",
       "    }\n",
       "</style>\n",
       "<table border=\"1\" class=\"dataframe\">\n",
       "  <thead>\n",
       "    <tr style=\"text-align: right;\">\n",
       "      <th></th>\n",
       "      <th>hour_bin</th>\n",
       "      <th>total</th>\n",
       "      <th>fraud_count</th>\n",
       "      <th>fraud_rate_percent</th>\n",
       "    </tr>\n",
       "  </thead>\n",
       "  <tbody>\n",
       "    <tr>\n",
       "      <th>0</th>\n",
       "      <td>00</td>\n",
       "      <td>4273</td>\n",
       "      <td>591.0</td>\n",
       "      <td>13.83</td>\n",
       "    </tr>\n",
       "    <tr>\n",
       "      <th>1</th>\n",
       "      <td>01</td>\n",
       "      <td>4221</td>\n",
       "      <td>572.0</td>\n",
       "      <td>13.55</td>\n",
       "    </tr>\n",
       "    <tr>\n",
       "      <th>2</th>\n",
       "      <td>02</td>\n",
       "      <td>4157</td>\n",
       "      <td>536.0</td>\n",
       "      <td>12.89</td>\n",
       "    </tr>\n",
       "    <tr>\n",
       "      <th>3</th>\n",
       "      <td>03</td>\n",
       "      <td>4157</td>\n",
       "      <td>523.0</td>\n",
       "      <td>12.58</td>\n",
       "    </tr>\n",
       "    <tr>\n",
       "      <th>4</th>\n",
       "      <td>04</td>\n",
       "      <td>4149</td>\n",
       "      <td>591.0</td>\n",
       "      <td>14.24</td>\n",
       "    </tr>\n",
       "    <tr>\n",
       "      <th>5</th>\n",
       "      <td>05</td>\n",
       "      <td>4141</td>\n",
       "      <td>552.0</td>\n",
       "      <td>13.33</td>\n",
       "    </tr>\n",
       "    <tr>\n",
       "      <th>6</th>\n",
       "      <td>06</td>\n",
       "      <td>4122</td>\n",
       "      <td>556.0</td>\n",
       "      <td>13.49</td>\n",
       "    </tr>\n",
       "    <tr>\n",
       "      <th>7</th>\n",
       "      <td>07</td>\n",
       "      <td>4112</td>\n",
       "      <td>582.0</td>\n",
       "      <td>14.15</td>\n",
       "    </tr>\n",
       "    <tr>\n",
       "      <th>8</th>\n",
       "      <td>08</td>\n",
       "      <td>4181</td>\n",
       "      <td>562.0</td>\n",
       "      <td>13.44</td>\n",
       "    </tr>\n",
       "    <tr>\n",
       "      <th>9</th>\n",
       "      <td>09</td>\n",
       "      <td>4106</td>\n",
       "      <td>567.0</td>\n",
       "      <td>13.81</td>\n",
       "    </tr>\n",
       "    <tr>\n",
       "      <th>10</th>\n",
       "      <td>10</td>\n",
       "      <td>4177</td>\n",
       "      <td>592.0</td>\n",
       "      <td>14.17</td>\n",
       "    </tr>\n",
       "    <tr>\n",
       "      <th>11</th>\n",
       "      <td>11</td>\n",
       "      <td>4124</td>\n",
       "      <td>577.0</td>\n",
       "      <td>13.99</td>\n",
       "    </tr>\n",
       "    <tr>\n",
       "      <th>12</th>\n",
       "      <td>12</td>\n",
       "      <td>4255</td>\n",
       "      <td>569.0</td>\n",
       "      <td>13.37</td>\n",
       "    </tr>\n",
       "    <tr>\n",
       "      <th>13</th>\n",
       "      <td>13</td>\n",
       "      <td>4096</td>\n",
       "      <td>583.0</td>\n",
       "      <td>14.23</td>\n",
       "    </tr>\n",
       "    <tr>\n",
       "      <th>14</th>\n",
       "      <td>14</td>\n",
       "      <td>4237</td>\n",
       "      <td>586.0</td>\n",
       "      <td>13.83</td>\n",
       "    </tr>\n",
       "    <tr>\n",
       "      <th>15</th>\n",
       "      <td>15</td>\n",
       "      <td>4212</td>\n",
       "      <td>605.0</td>\n",
       "      <td>14.36</td>\n",
       "    </tr>\n",
       "    <tr>\n",
       "      <th>16</th>\n",
       "      <td>16</td>\n",
       "      <td>4137</td>\n",
       "      <td>571.0</td>\n",
       "      <td>13.80</td>\n",
       "    </tr>\n",
       "    <tr>\n",
       "      <th>17</th>\n",
       "      <td>17</td>\n",
       "      <td>4137</td>\n",
       "      <td>559.0</td>\n",
       "      <td>13.51</td>\n",
       "    </tr>\n",
       "    <tr>\n",
       "      <th>18</th>\n",
       "      <td>18</td>\n",
       "      <td>4197</td>\n",
       "      <td>563.0</td>\n",
       "      <td>13.41</td>\n",
       "    </tr>\n",
       "    <tr>\n",
       "      <th>19</th>\n",
       "      <td>19</td>\n",
       "      <td>4172</td>\n",
       "      <td>557.0</td>\n",
       "      <td>13.35</td>\n",
       "    </tr>\n",
       "    <tr>\n",
       "      <th>20</th>\n",
       "      <td>20</td>\n",
       "      <td>4096</td>\n",
       "      <td>561.0</td>\n",
       "      <td>13.70</td>\n",
       "    </tr>\n",
       "    <tr>\n",
       "      <th>21</th>\n",
       "      <td>21</td>\n",
       "      <td>4259</td>\n",
       "      <td>563.0</td>\n",
       "      <td>13.22</td>\n",
       "    </tr>\n",
       "    <tr>\n",
       "      <th>22</th>\n",
       "      <td>22</td>\n",
       "      <td>4082</td>\n",
       "      <td>575.0</td>\n",
       "      <td>14.09</td>\n",
       "    </tr>\n",
       "    <tr>\n",
       "      <th>23</th>\n",
       "      <td>23</td>\n",
       "      <td>4200</td>\n",
       "      <td>546.0</td>\n",
       "      <td>13.00</td>\n",
       "    </tr>\n",
       "  </tbody>\n",
       "</table>\n",
       "</div>"
      ],
      "text/plain": [
       "   hour_bin  total  fraud_count  fraud_rate_percent\n",
       "0        00   4273        591.0               13.83\n",
       "1        01   4221        572.0               13.55\n",
       "2        02   4157        536.0               12.89\n",
       "3        03   4157        523.0               12.58\n",
       "4        04   4149        591.0               14.24\n",
       "5        05   4141        552.0               13.33\n",
       "6        06   4122        556.0               13.49\n",
       "7        07   4112        582.0               14.15\n",
       "8        08   4181        562.0               13.44\n",
       "9        09   4106        567.0               13.81\n",
       "10       10   4177        592.0               14.17\n",
       "11       11   4124        577.0               13.99\n",
       "12       12   4255        569.0               13.37\n",
       "13       13   4096        583.0               14.23\n",
       "14       14   4237        586.0               13.83\n",
       "15       15   4212        605.0               14.36\n",
       "16       16   4137        571.0               13.80\n",
       "17       17   4137        559.0               13.51\n",
       "18       18   4197        563.0               13.41\n",
       "19       19   4172        557.0               13.35\n",
       "20       20   4096        561.0               13.70\n",
       "21       21   4259        563.0               13.22\n",
       "22       22   4082        575.0               14.09\n",
       "23       23   4200        546.0               13.00"
      ]
     },
     "execution_count": 43,
     "metadata": {},
     "output_type": "execute_result"
    }
   ],
   "source": [
    "df = con.sql(\"\"\"\n",
    "SELECT\n",
    "  SUBSTR(Time_Of_Day, 1, 2) AS hour_bin,\n",
    "  COUNT(*) AS total,\n",
    "  SUM(CASE WHEN Fraudulent THEN 1 ELSE 0 END) AS fraud_count,\n",
    "  ROUND(100.0 * SUM(CASE WHEN Fraudulent THEN 1 ELSE 0 END) / COUNT(*), 2) AS fraud_rate_percent\n",
    "FROM fraud_data\n",
    "GROUP BY hour_bin\n",
    "ORDER BY hour_bin;\n",
    "\"\"\").df()\n",
    "df"
   ]
  },
  {
   "cell_type": "markdown",
   "id": "76631fdb-0b61-44f9-8f14-69b63d3aae4c",
   "metadata": {},
   "source": [
    "### Top Suspicious Devices"
   ]
  },
  {
   "cell_type": "code",
   "execution_count": 44,
   "id": "fc5c0a8d-f1e6-434c-b5ab-0e555caf41b5",
   "metadata": {},
   "outputs": [
    {
     "data": {
      "text/html": [
       "<div>\n",
       "<style scoped>\n",
       "    .dataframe tbody tr th:only-of-type {\n",
       "        vertical-align: middle;\n",
       "    }\n",
       "\n",
       "    .dataframe tbody tr th {\n",
       "        vertical-align: top;\n",
       "    }\n",
       "\n",
       "    .dataframe thead th {\n",
       "        text-align: right;\n",
       "    }\n",
       "</style>\n",
       "<table border=\"1\" class=\"dataframe\">\n",
       "  <thead>\n",
       "    <tr style=\"text-align: right;\">\n",
       "      <th></th>\n",
       "      <th>Fraudulent</th>\n",
       "      <th>tx_count</th>\n",
       "      <th>avg_amount</th>\n",
       "      <th>max_amount</th>\n",
       "    </tr>\n",
       "  </thead>\n",
       "  <tbody>\n",
       "    <tr>\n",
       "      <th>0</th>\n",
       "      <td>False</td>\n",
       "      <td>14881</td>\n",
       "      <td>889.26</td>\n",
       "      <td>999.99</td>\n",
       "    </tr>\n",
       "    <tr>\n",
       "      <th>1</th>\n",
       "      <td>True</td>\n",
       "      <td>5348</td>\n",
       "      <td>930.31</td>\n",
       "      <td>1000.00</td>\n",
       "    </tr>\n",
       "  </tbody>\n",
       "</table>\n",
       "</div>"
      ],
      "text/plain": [
       "   Fraudulent  tx_count  avg_amount  max_amount\n",
       "0       False     14881      889.26      999.99\n",
       "1        True      5348      930.31     1000.00"
      ]
     },
     "execution_count": 44,
     "metadata": {},
     "output_type": "execute_result"
    }
   ],
   "source": [
    "df = con.sql(\"\"\"SELECT\n",
    "  Fraudulent,\n",
    "  COUNT(*) AS tx_count,\n",
    "  ROUND(AVG(Transaction_Amount), 2) AS avg_amount,\n",
    "  MAX(Transaction_Amount) AS max_amount\n",
    "FROM fraud_data\n",
    "WHERE Transaction_Amount > 800\n",
    "GROUP BY Fraudulent;\"\"\").df()\n",
    "df\n"
   ]
  },
  {
   "cell_type": "markdown",
   "id": "3b7397e4-30f9-4df1-be93-5e07c16031ef",
   "metadata": {},
   "source": [
    "## Correlations for ML Feature Engineering (DuckDB)"
   ]
  },
  {
   "cell_type": "code",
   "execution_count": 49,
   "id": "05d97d95-d383-41f1-9f98-015c65015804",
   "metadata": {},
   "outputs": [
    {
     "data": {
      "text/html": [
       "<div>\n",
       "<style scoped>\n",
       "    .dataframe tbody tr th:only-of-type {\n",
       "        vertical-align: middle;\n",
       "    }\n",
       "\n",
       "    .dataframe tbody tr th {\n",
       "        vertical-align: top;\n",
       "    }\n",
       "\n",
       "    .dataframe thead th {\n",
       "        text-align: right;\n",
       "    }\n",
       "</style>\n",
       "<table border=\"1\" class=\"dataframe\">\n",
       "  <thead>\n",
       "    <tr style=\"text-align: right;\">\n",
       "      <th></th>\n",
       "      <th>fraud_vs_amount</th>\n",
       "      <th>fraud_vs_score</th>\n",
       "      <th>fraud_vs_income</th>\n",
       "    </tr>\n",
       "  </thead>\n",
       "  <tbody>\n",
       "    <tr>\n",
       "      <th>0</th>\n",
       "      <td>0.151374</td>\n",
       "      <td>-0.104932</td>\n",
       "      <td>-0.001607</td>\n",
       "    </tr>\n",
       "  </tbody>\n",
       "</table>\n",
       "</div>"
      ],
      "text/plain": [
       "   fraud_vs_amount  fraud_vs_score  fraud_vs_income\n",
       "0         0.151374       -0.104932        -0.001607"
      ]
     },
     "execution_count": 49,
     "metadata": {},
     "output_type": "execute_result"
    }
   ],
   "source": [
    "df = con.sql(\"\"\"\n",
    "SELECT\n",
    "  corr(CAST(Fraudulent AS INT), Transaction_Amount) AS fraud_vs_amount,\n",
    "  corr(CAST(Fraudulent AS INT), Credit_Score) AS fraud_vs_score,\n",
    "  corr(CAST(Fraudulent AS INT), Annual_Income) AS fraud_vs_income\n",
    "FROM fraud_data;\n",
    "\"\"\").df()\n",
    "df"
   ]
  },
  {
   "cell_type": "markdown",
   "id": "3be336aa-95cd-4577-9eb1-ec827d5d8ef3",
   "metadata": {},
   "source": [
    "- ***fraud_vs_amount*** = 0.15: *Mild positive correlation: Suggests higher transaction amounts might be slightly more likely to be fraudulent. **Totally believable**.*\n",
    "\n",
    "- ***fraud_vs_score*** = -0.10: *Weak negative correlation — lower credit scores loosely associate with fraud. Also realistic.*\n",
    "\n",
    "- ***fraud_vs_income*** = -0.0016:*Near-zero correlation — annual income doesn’t influence fraud much here, which is fine unless you added strong income-driven rules.*"
   ]
  },
  {
   "cell_type": "markdown",
   "id": "a9db594f-d9ca-49e9-929f-9f21f42f4ede",
   "metadata": {},
   "source": [
    "# Feature Grid for Modeling"
   ]
  },
  {
   "cell_type": "code",
   "execution_count": 50,
   "id": "a4642b0c-4a95-4f67-984f-7fee0128bc60",
   "metadata": {},
   "outputs": [
    {
     "data": {
      "text/html": [
       "<div>\n",
       "<style scoped>\n",
       "    .dataframe tbody tr th:only-of-type {\n",
       "        vertical-align: middle;\n",
       "    }\n",
       "\n",
       "    .dataframe tbody tr th {\n",
       "        vertical-align: top;\n",
       "    }\n",
       "\n",
       "    .dataframe thead th {\n",
       "        text-align: right;\n",
       "    }\n",
       "</style>\n",
       "<table border=\"1\" class=\"dataframe\">\n",
       "  <thead>\n",
       "    <tr style=\"text-align: right;\">\n",
       "      <th></th>\n",
       "      <th>Fraudulent</th>\n",
       "      <th>avg_amount</th>\n",
       "      <th>avg_score</th>\n",
       "      <th>avg_income</th>\n",
       "    </tr>\n",
       "  </thead>\n",
       "  <tbody>\n",
       "    <tr>\n",
       "      <th>0</th>\n",
       "      <td>False</td>\n",
       "      <td>488.08</td>\n",
       "      <td>581.90</td>\n",
       "      <td>115092.22</td>\n",
       "    </tr>\n",
       "    <tr>\n",
       "      <th>1</th>\n",
       "      <td>True</td>\n",
       "      <td>614.00</td>\n",
       "      <td>533.19</td>\n",
       "      <td>114862.09</td>\n",
       "    </tr>\n",
       "  </tbody>\n",
       "</table>\n",
       "</div>"
      ],
      "text/plain": [
       "   Fraudulent  avg_amount  avg_score  avg_income\n",
       "0       False      488.08     581.90   115092.22\n",
       "1        True      614.00     533.19   114862.09"
      ]
     },
     "execution_count": 50,
     "metadata": {},
     "output_type": "execute_result"
    }
   ],
   "source": [
    "\n",
    "df = con.sql(\"\"\"\n",
    "SELECT\n",
    "  Fraudulent,\n",
    "  ROUND(AVG(Transaction_Amount), 2) AS avg_amount,\n",
    "  ROUND(AVG(Credit_Score), 2) AS avg_score,\n",
    "  ROUND(AVG(Annual_Income), 2) AS avg_income\n",
    "FROM fraud_data\n",
    "GROUP BY Fraudulent;\n",
    "\"\"\").df()\n",
    "df"
   ]
  },
  {
   "cell_type": "markdown",
   "id": "26a036b1-78d7-4617-8ab7-1747f5938ce4",
   "metadata": {},
   "source": [
    "- Higher avg_amount for fraud = expected.\n",
    "\n",
    "- Lower avg_score for fraud = realistic.\n",
    "\n",
    "- Income is almost the same = totally okay unless you scripted otherwise."
   ]
  },
  {
   "cell_type": "markdown",
   "id": "3e891e0e-16c8-4009-bbbe-11f67fb59d1e",
   "metadata": {},
   "source": [
    "## Mix with ploting Examples"
   ]
  },
  {
   "cell_type": "markdown",
   "id": "3dd5c38b-23fa-4a51-bdd4-6f36d3e307d5",
   "metadata": {},
   "source": [
    "\n",
    "*The following is a table matching each chart type with its Seaborn/Matplotlib function:*\n",
    "\n",
    "|  Chart Type         | When to Use It                                                   | Seaborn / Matplotlib Function                                       | Notes                                                    |\n",
    "| --------------------- | ---------------------------------------------------------------- | ------------------------------------------------------------------- | -------------------------------------------------------- |\n",
    "| **Bar Plot**       | Default go-to for comparing values                               | `sns.barplot(data=..., x=..., y=...)`                               | Add `palette` for colors, great for categories           |\n",
    "| **Horizontal Bar** | Same data, more readable if labels are long                      | `sns.barplot(data=..., y=..., x=...)`                               | Just flip `x` and `y`                                    |\n",
    "| **Line Chart**     | If `credit_bucket` is ordinal (like here), helps visualize trend | `sns.lineplot(data=..., x=..., y=..., marker=\"o\")`                  | Add `marker=\"o\"` for emphasis                            |\n",
    "| **Heatmap**        | Comparing across 2+ dimensions or matrix-like data               | `sns.heatmap(data=..., annot=True)`                                 | Use `.pivot()` or `.crosstab()` to prepare data          |\n",
    "| **Dot Plot**       | Cleaner than bar chart when comparing many categories            | `sns.stripplot(data=..., x=..., y=...)` or `sns.swarmplot(...)`     | Great when showing data points distribution              |\n",
    "| **Radial Bar**     | Cool for presentations, not great for dashboards                 | Use `matplotlib` with `polar=True` or `plotly.express.line_polar()` | More complex, less readable for practical dashboards     |\n",
    "| **Area Chart**     | Emphasize magnitude of values across a sequence                  | `plt.fill_between(x, y)`                                            | `sns.lineplot()` + `plt.fill_between()` combo works well |\n",
    "\n"
   ]
  },
  {
   "cell_type": "markdown",
   "id": "0a8360c4-bcc4-4068-8907-f6e7b5a56001",
   "metadata": {},
   "source": [
    "### High Amount Transactions: Legit vs. Fraudulent"
   ]
  },
  {
   "cell_type": "code",
   "execution_count": 45,
   "id": "1c360e9d-284b-47e3-ac44-729f446b17b9",
   "metadata": {},
   "outputs": [
    {
     "data": {
      "text/html": [
       "<div>\n",
       "<style scoped>\n",
       "    .dataframe tbody tr th:only-of-type {\n",
       "        vertical-align: middle;\n",
       "    }\n",
       "\n",
       "    .dataframe tbody tr th {\n",
       "        vertical-align: top;\n",
       "    }\n",
       "\n",
       "    .dataframe thead th {\n",
       "        text-align: right;\n",
       "    }\n",
       "</style>\n",
       "<table border=\"1\" class=\"dataframe\">\n",
       "  <thead>\n",
       "    <tr style=\"text-align: right;\">\n",
       "      <th></th>\n",
       "      <th>Card_Type</th>\n",
       "      <th>total</th>\n",
       "      <th>frauds</th>\n",
       "      <th>fraud_rate_percent</th>\n",
       "    </tr>\n",
       "  </thead>\n",
       "  <tbody>\n",
       "    <tr>\n",
       "      <th>0</th>\n",
       "      <td>Amex</td>\n",
       "      <td>24865</td>\n",
       "      <td>6098.0</td>\n",
       "      <td>24.52</td>\n",
       "    </tr>\n",
       "    <tr>\n",
       "      <th>1</th>\n",
       "      <td>MasterCard</td>\n",
       "      <td>25071</td>\n",
       "      <td>4432.0</td>\n",
       "      <td>17.68</td>\n",
       "    </tr>\n",
       "    <tr>\n",
       "      <th>2</th>\n",
       "      <td>Discover</td>\n",
       "      <td>25074</td>\n",
       "      <td>1568.0</td>\n",
       "      <td>6.25</td>\n",
       "    </tr>\n",
       "    <tr>\n",
       "      <th>3</th>\n",
       "      <td>Visa</td>\n",
       "      <td>24990</td>\n",
       "      <td>1541.0</td>\n",
       "      <td>6.17</td>\n",
       "    </tr>\n",
       "  </tbody>\n",
       "</table>\n",
       "</div>"
      ],
      "text/plain": [
       "    Card_Type  total  frauds  fraud_rate_percent\n",
       "0        Amex  24865  6098.0               24.52\n",
       "1  MasterCard  25071  4432.0               17.68\n",
       "2    Discover  25074  1568.0                6.25\n",
       "3        Visa  24990  1541.0                6.17"
      ]
     },
     "execution_count": 45,
     "metadata": {},
     "output_type": "execute_result"
    }
   ],
   "source": [
    "df = con.sql(\"\"\"\n",
    "    SELECT\n",
    "      Card_Type,\n",
    "      COUNT(*) AS total,\n",
    "      SUM(CASE WHEN Fraudulent THEN 1 ELSE 0 END) AS frauds,\n",
    "      ROUND(100.0 * SUM(CASE WHEN Fraudulent THEN 1 ELSE 0 END) / COUNT(*), 2) AS fraud_rate_percent\n",
    "    FROM fraud_data\n",
    "    GROUP BY Card_Type\n",
    "    ORDER BY fraud_rate_percent DESC\n",
    "\"\"\").df()\n",
    "df"
   ]
  },
  {
   "cell_type": "code",
   "execution_count": 14,
   "id": "71bdcc84-acbb-4b59-90d3-3a6ee7f121fa",
   "metadata": {},
   "outputs": [
    {
     "data": {
      "image/png": "[encoded data removed]",
      "text/plain": [
       "<Figure size 800x500 with 1 Axes>"
      ]
     },
     "metadata": {},
     "output_type": "display_data"
    }
   ],
   "source": [
    "import seaborn as sns\n",
    "import matplotlib.pyplot as plt\n",
    "\n",
    "plt.figure(figsize=(8, 5))\n",
    "#sns.barplot(data=df, x=\"Card_Type\", y=\"fraud_rate_percent\", palette=\"magma\")\n",
    "sns.barplot(data=df, x=\"Card_Type\", y=\"fraud_rate_percent\", hue=\"Card_Type\", palette=\"rocket\", legend=False)\n",
    "plt.title(\"Fraud Rate by Card Type\")\n",
    "plt.ylabel(\"Fraud Rate (%)\")\n",
    "plt.xlabel(\"Card Type\")\n",
    "plt.ylim(0, 100)  # since we're working in percentages\n",
    "plt.tight_layout()\n",
    "plt.show()\n"
   ]
  },
  {
   "cell_type": "markdown",
   "id": "0760ba03-67f3-4acb-9f99-94552b5e78eb",
   "metadata": {},
   "source": [
    "## Top Suspicious Devices"
   ]
  },
  {
   "cell_type": "code",
   "execution_count": 46,
   "id": "6d501826-6dd3-4f2c-bbea-23366eb0c8a1",
   "metadata": {},
   "outputs": [
    {
     "data": {
      "text/html": [
       "<div>\n",
       "<style scoped>\n",
       "    .dataframe tbody tr th:only-of-type {\n",
       "        vertical-align: middle;\n",
       "    }\n",
       "\n",
       "    .dataframe tbody tr th {\n",
       "        vertical-align: top;\n",
       "    }\n",
       "\n",
       "    .dataframe thead th {\n",
       "        text-align: right;\n",
       "    }\n",
       "</style>\n",
       "<table border=\"1\" class=\"dataframe\">\n",
       "  <thead>\n",
       "    <tr style=\"text-align: right;\">\n",
       "      <th></th>\n",
       "      <th>device_type</th>\n",
       "      <th>total</th>\n",
       "      <th>fraud_count</th>\n",
       "      <th>fraud_rate</th>\n",
       "    </tr>\n",
       "  </thead>\n",
       "  <tbody>\n",
       "    <tr>\n",
       "      <th>0</th>\n",
       "      <td>Linux</td>\n",
       "      <td>11944</td>\n",
       "      <td>3589.0</td>\n",
       "      <td>30.05</td>\n",
       "    </tr>\n",
       "    <tr>\n",
       "      <th>1</th>\n",
       "      <td>Opera</td>\n",
       "      <td>19930</td>\n",
       "      <td>5839.0</td>\n",
       "      <td>29.30</td>\n",
       "    </tr>\n",
       "    <tr>\n",
       "      <th>2</th>\n",
       "      <td>Windows</td>\n",
       "      <td>34856</td>\n",
       "      <td>2215.0</td>\n",
       "      <td>6.35</td>\n",
       "    </tr>\n",
       "    <tr>\n",
       "      <th>3</th>\n",
       "      <td>iPad</td>\n",
       "      <td>4080</td>\n",
       "      <td>256.0</td>\n",
       "      <td>6.27</td>\n",
       "    </tr>\n",
       "    <tr>\n",
       "      <th>4</th>\n",
       "      <td>Other</td>\n",
       "      <td>29190</td>\n",
       "      <td>1740.0</td>\n",
       "      <td>5.96</td>\n",
       "    </tr>\n",
       "  </tbody>\n",
       "</table>\n",
       "</div>"
      ],
      "text/plain": [
       "  device_type  total  fraud_count  fraud_rate\n",
       "0       Linux  11944       3589.0       30.05\n",
       "1       Opera  19930       5839.0       29.30\n",
       "2     Windows  34856       2215.0        6.35\n",
       "3        iPad   4080        256.0        6.27\n",
       "4       Other  29190       1740.0        5.96"
      ]
     },
     "execution_count": 46,
     "metadata": {},
     "output_type": "execute_result"
    }
   ],
   "source": [
    "df = con.sql(\"\"\"\n",
    "SELECT\n",
    "  CASE \n",
    "    WHEN Device LIKE '%Opera%' THEN 'Opera'\n",
    "    WHEN Device LIKE '%Linux%' THEN 'Linux'\n",
    "    WHEN Device LIKE '%iPad%' THEN 'iPad'\n",
    "    WHEN Device LIKE '%Windows%' THEN 'Windows'\n",
    "    ELSE 'Other'\n",
    "  END AS device_type,\n",
    "  COUNT(*) AS total,\n",
    "  SUM(CASE WHEN Fraudulent THEN 1 ELSE 0 END) AS fraud_count,\n",
    "  ROUND(100.0 * SUM(CASE WHEN Fraudulent THEN 1 ELSE 0 END) / COUNT(*), 2) AS fraud_rate\n",
    "FROM fraud_data\n",
    "GROUP BY device_type\n",
    "ORDER BY fraud_rate DESC\n",
    "LIMIT 10;\n",
    "\"\"\").df()\n",
    "df"
   ]
  },
  {
   "cell_type": "code",
   "execution_count": 47,
   "id": "831ca8b4-977a-4fda-843e-9d3ce06b3d89",
   "metadata": {},
   "outputs": [
    {
     "data": {
      "image/png": "[encoded data removed]",
      "text/plain": [
       "<Figure size 800x500 with 1 Axes>"
      ]
     },
     "metadata": {},
     "output_type": "display_data"
    }
   ],
   "source": [
    "import seaborn as sns\n",
    "import matplotlib.pyplot as plt\n",
    "\n",
    "plt.figure(figsize=(8, 5))\n",
    "sns.barplot(data=df, x=\"fraud_rate\", y=\"device_type\", hue=\"fraud_rate\", palette=\"inferno\")\n",
    "plt.title(\"Fraud Rate by Device Type\")\n",
    "plt.xlabel(\"Fraud Rate (%)\")\n",
    "plt.ylabel(\"Device Type\")\n",
    "plt.tight_layout()\n",
    "plt.show()\n"
   ]
  },
  {
   "cell_type": "markdown",
   "id": "4d498483-b5c9-44c6-84d3-ad8aa3b55f9f",
   "metadata": {},
   "source": [
    "## Credit Score vs Fraud Rate Buckets\n"
   ]
  },
  {
   "cell_type": "code",
   "execution_count": 15,
   "id": "78f73ad5-6039-432f-8413-dc566c88e104",
   "metadata": {},
   "outputs": [],
   "source": [
    "# Credit Score vs Fraud Rate Buckets\n",
    "\n",
    "df = con.sql(\"\"\"SELECT\n",
    "  CASE\n",
    "    WHEN Credit_Score < 400 THEN 'Very Low'\n",
    "    WHEN Credit_Score < 550 THEN 'Low'\n",
    "    WHEN Credit_Score < 700 THEN 'Medium'\n",
    "    ELSE 'High'\n",
    "  END AS credit_bucket,\n",
    "  COUNT(*) AS total,\n",
    "  SUM(CASE WHEN Fraudulent THEN 1 ELSE 0 END) AS frauds,\n",
    "  ROUND(100.0 * SUM(CASE WHEN Fraudulent THEN 1 ELSE 0 END) / COUNT(*), 2) AS fraud_rate_percent\n",
    "FROM fraud_data\n",
    "GROUP BY credit_bucket\n",
    "ORDER BY credit_bucket;\"\"\").df()"
   ]
  },
  {
   "cell_type": "code",
   "execution_count": 103,
   "id": "5390fbd5-dab6-46ff-a85b-1a11dac094a6",
   "metadata": {},
   "outputs": [
    {
     "name": "stdout",
     "output_type": "stream",
     "text": [
      "  credit_bucket  total  frauds  fraud_rate_percent\n",
      "0          High  27573  2776.0               10.07\n",
      "1           Low  27175  4529.0               16.67\n",
      "2        Medium  27045  2906.0               10.75\n",
      "3      Very Low  18207  3428.0               18.83\n"
     ]
    }
   ],
   "source": [
    "print(df)"
   ]
  },
  {
   "cell_type": "markdown",
   "id": "d68267ba-cbed-45a6-bd21-ba076cd5a75f",
   "metadata": {},
   "source": [
    "### *More Examples:*"
   ]
  },
  {
   "cell_type": "code",
   "execution_count": 110,
   "id": "480d59b9-9fed-4438-ab7c-4b69ec3c0748",
   "metadata": {},
   "outputs": [
    {
     "data": {
      "image/png": "[encoded data removed]",
      "text/plain": [
       "<Figure size 640x480 with 1 Axes>"
      ]
     },
     "metadata": {},
     "output_type": "display_data"
    }
   ],
   "source": [
    "import seaborn as sns\n",
    "import matplotlib.pyplot as plt\n",
    "\n",
    "sns.barplot(data=df, x=\"credit_bucket\", y=\"fraud_rate_percent\", hue=\"credit_bucket\", palette=\"rocket\", legend=False)\n",
    "plt.title(\"Fraud Rate by Credit Score Bucket\")\n",
    "plt.ylabel(\"Fraud Rate (%)\")\n",
    "plt.xlabel(\"Credit Score Bucket\")\n",
    "plt.show()\n"
   ]
  },
  {
   "cell_type": "markdown",
   "id": "4c1af7a8-d1ca-44a7-86a0-256c8ea5b902",
   "metadata": {},
   "source": [
    "### Grouped Bar Chart – Total vs. Fraud Count\n",
    "Use case: Compare volume of users vs. frauds in each bucket."
   ]
  },
  {
   "cell_type": "code",
   "execution_count": 51,
   "id": "77468c05-ed55-4f6b-bb75-7c133b0c0d69",
   "metadata": {},
   "outputs": [
    {
     "data": {
      "image/png": "[encoded data removed]",
      "text/plain": [
       "<Figure size 800x500 with 1 Axes>"
      ]
     },
     "metadata": {},
     "output_type": "display_data"
    }
   ],
   "source": [
    "import pandas as pd\n",
    "import matplotlib.pyplot as plt\n",
    "\n",
    "df_plot = df.set_index(\"credit_bucket\")[[\"total\", \"frauds\"]]\n",
    "df_plot.plot(kind=\"bar\", figsize=(8, 5))\n",
    "plt.title(\"Total vs Fraudulent Transactions by Credit Bucket\")\n",
    "plt.ylabel(\"Count\")\n",
    "plt.xlabel(\"Credit Score Bucket\")\n",
    "plt.xticks(rotation=0)\n",
    "plt.show()\n"
   ]
  },
  {
   "cell_type": "markdown",
   "id": "7c35a6a0-e826-4e65-99e9-538c1c331255",
   "metadata": {},
   "source": [
    "#### Line Chart"
   ]
  },
  {
   "cell_type": "code",
   "execution_count": 111,
   "id": "ee62b619-3598-4c86-9e1f-138299dee9ff",
   "metadata": {},
   "outputs": [
    {
     "data": {
      "image/png": "[encoded data removed]",
      "text/plain": [
       "<Figure size 800x500 with 1 Axes>"
      ]
     },
     "metadata": {},
     "output_type": "display_data"
    }
   ],
   "source": [
    "import matplotlib.pyplot as plt\n",
    "import seaborn as sns\n",
    "\n",
    "# Ensure the buckets are ordered correctly\n",
    "bucket_order = [\"Very Low\", \"Low\", \"Medium\", \"High\"]\n",
    "df[\"credit_bucket\"] = pd.Categorical(df[\"credit_bucket\"], categories=bucket_order, ordered=True)\n",
    "df = df.sort_values(\"credit_bucket\")\n",
    "\n",
    "# Plot\n",
    "plt.figure(figsize=(8, 5))\n",
    "sns.lineplot(data=df, x=\"credit_bucket\", y=\"fraud_rate_percent\", marker=\"o\", linewidth=2.5)\n",
    "plt.title(\"Fraud Rate by Credit Score Bucket\")\n",
    "plt.xlabel(\"Credit Score Bucket\")\n",
    "plt.ylabel(\"Fraud Rate (%)\")\n",
    "plt.grid(True)\n",
    "plt.tight_layout()\n",
    "plt.show()"
   ]
  },
  {
   "cell_type": "markdown",
   "id": "5dd5f40e-129c-43f3-9651-bff820a01131",
   "metadata": {},
   "source": [
    "#### Annotated Text Table or Heatmap\n",
    "**Use case:** You want to build a reporting table with percentage overlays."
   ]
  },
  {
   "cell_type": "code",
   "execution_count": 54,
   "id": "80adac8c-2ef8-4a2d-babe-879ad10e1ebb",
   "metadata": {},
   "outputs": [
    {
     "data": {
      "image/png": "[encoded data removed]",
      "text/plain": [
       "<Figure size 640x480 with 1 Axes>"
      ]
     },
     "metadata": {},
     "output_type": "display_data"
    }
   ],
   "source": [
    "import seaborn as sns\n",
    "import matplotlib.pyplot as plt\n",
    "\n",
    "# Create a dummy column to make it 2D.  Not best practice just for demo\n",
    "df[\"dummy\"] = \"Fraud Rate\"\n",
    "\n",
    "# Pivot properly with index, columns, and values\n",
    "pivot = df.pivot(index=\"credit_bucket\", columns=\"dummy\", values=\"fraud_rate_percent\")\n",
    "\n",
    "# Plot\n",
    "sns.heatmap(pivot, annot=True, cmap=\"Reds\", cbar=False, fmt=\".2f\")\n",
    "plt.title(\"Fraud Rate by Credit Score Bucket\")\n",
    "plt.xlabel(\"\")  # Clean up axis label\n",
    "plt.ylabel(\"Credit Score Bucket\")\n",
    "plt.show()"
   ]
  },
  {
   "cell_type": "markdown",
   "id": "193b3c71-03c8-4cf4-aed3-84fcc726b956",
   "metadata": {},
   "source": [
    "### Here are a few others: "
   ]
  },
  {
   "cell_type": "code",
   "execution_count": 56,
   "id": "cc53c747-ba71-4da2-8e43-fdd50a49edf7",
   "metadata": {},
   "outputs": [
    {
     "data": {
      "image/png": "[encoded data removed]",
      "text/plain": [
       "<Figure size 800x500 with 1 Axes>"
      ]
     },
     "metadata": {},
     "output_type": "display_data"
    }
   ],
   "source": [
    "    plt.figure(figsize=(8, 5))\n",
    "    sns.stripplot(data=df, x=\"credit_bucket\", y=\"fraud_rate_percent\", size=10, color=\"green\")\n",
    "    plt.title(\"Dot Plot: Fraud Rate by Credit Score Bucket\")\n",
    "    plt.xlabel(\"Credit Bucket\")\n",
    "    plt.ylabel(\"Fraud Rate (%)\")\n",
    "    plt.tight_layout()\n",
    "    plt.show()\n"
   ]
  },
  {
   "cell_type": "code",
   "execution_count": 57,
   "id": "e8b8f4ae-4659-4ad5-af04-87b12bd05bfa",
   "metadata": {},
   "outputs": [
    {
     "data": {
      "image/png": "[encoded data removed]",
      "text/plain": [
       "<Figure size 800x500 with 1 Axes>"
      ]
     },
     "metadata": {},
     "output_type": "display_data"
    }
   ],
   "source": [
    "    order = [\"Very Low\", \"Low\", \"Medium\", \"High\"]\n",
    "    df[\"credit_bucket\"] = pd.Categorical(df[\"credit_bucket\"], categories=order, ordered=True)\n",
    "    df = df.sort_values(\"credit_bucket\")\n",
    "\n",
    "    plt.figure(figsize=(8, 5))\n",
    "    plt.fill_between(df[\"credit_bucket\"], df[\"fraud_rate_percent\"], alpha=0.4, color=\"skyblue\")\n",
    "    plt.plot(df[\"credit_bucket\"], df[\"fraud_rate_percent\"], color=\"blue\", marker=\"o\")\n",
    "    plt.title(\"Area Chart: Fraud Rate by Credit Score Bucket\")\n",
    "    plt.xlabel(\"Credit Bucket\")\n",
    "    plt.ylabel(\"Fraud Rate (%)\")\n",
    "    plt.tight_layout()\n",
    "    plt.show()"
   ]
  }
 ],
 "metadata": {
  "kernelspec": {
   "display_name": "Python 3 (ipykernel)",
   "language": "python",
   "name": "python3"
  },
  "language_info": {
   "codemirror_mode": {
    "name": "ipython",
    "version": 3
   },
   "file_extension": ".py",
   "mimetype": "text/x-python",
   "name": "python",
   "nbconvert_exporter": "python",
   "pygments_lexer": "ipython3",
   "version": "3.11.6"
  }
 },
 "nbformat": 4,
 "nbformat_minor": 5
}
