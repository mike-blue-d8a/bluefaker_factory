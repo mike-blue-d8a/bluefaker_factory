{
 "cells": [
  {
   "cell_type": "markdown",
   "id": "5db9a979-2c4b-4955-b0a8-fcbdd60d5afa",
   "metadata": {},
   "source": [
    "# Working Iceburge Tables and DuckDB"
   ]
  },
  {
   "cell_type": "markdown",
   "id": "3d4885b3-0588-4662-9770-7bb9a5df3651",
   "metadata": {},
   "source": [
    "# Install:  \n",
    "`pip install pyiceberg`"
   ]
  },
  {
   "cell_type": "markdown",
   "id": "87f5b72d-7055-434f-b96d-e9b9220a450f",
   "metadata": {},
   "source": [
    "## Prepare Your Directory:"
   ]
  },
  {
   "cell_type": "code",
   "execution_count": 1,
   "id": "b695dd29-e775-4d17-b1db-41abe040c5d6",
   "metadata": {},
   "outputs": [],
   "source": [
    "import os\n",
    "\n",
    "base_path = \"data/blue_loakehouse/iceberg-tables\"\n",
    "table_name = \"fraud_data\"\n",
    "table_path = os.path.join(base_path, table_name)\n",
    "\n",
    "os.makedirs(table_path, exist_ok=True)\n"
   ]
  },
  {
   "cell_type": "markdown",
   "id": "11003df2-7c6e-4421-b290-7fa589212b3c",
   "metadata": {},
   "source": [
    "## Create a Table Using PyIceberg (File-based Catalog)"
   ]
  },
  {
   "cell_type": "code",
   "execution_count": null,
   "id": "d0b96ad5-453b-4419-a91d-b5e9fb1b1415",
   "metadata": {},
   "outputs": [],
   "source": [
    "from pyiceberg.catalog import load_catalog\n",
    "from pyiceberg.schema import Schema\n",
    "from pyiceberg.types import StringType, LongType, StructType, TimestampType\n",
    "from pyiceberg.expressions import AlwaysTrue\n",
    "\n",
    "# Define schema\n",
    "schema = Schema(\n",
    "    StructType(\n",
    "        fields=[\n",
    "            (\"id\", LongType()),\n",
    "            (\"event_time\", TimestampType()),\n",
    "            (\"description\", StringType())\n",
    "        ]\n",
    "    ),\n",
    "    identifier_field_names=[\"id\"]\n",
    ")\n",
    "\n",
    "# Set up catalog\n",
    "catalog = load_catalog(\"file\", uri=base_path)\n",
    "\n",
    "# Create table\n",
    "catalog.create_table(\n",
    "    identifier=table_name,\n",
    "    schema=schema,\n",
    "    location=table_path\n",
    ")\n"
   ]
  }
 ],
 "metadata": {
  "kernelspec": {
   "display_name": "Python 3 (ipykernel)",
   "language": "python",
   "name": "python3"
  },
  "language_info": {
   "codemirror_mode": {
    "name": "ipython",
    "version": 3
   },
   "file_extension": ".py",
   "mimetype": "text/x-python",
   "name": "python",
   "nbconvert_exporter": "python",
   "pygments_lexer": "ipython3",
   "version": "3.11.6"
  }
 },
 "nbformat": 4,
 "nbformat_minor": 5
}
